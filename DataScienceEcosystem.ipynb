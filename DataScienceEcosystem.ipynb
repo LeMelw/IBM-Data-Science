{
 "cells": [
  {
   "cell_type": "markdown",
   "id": "b10463aa-a78c-4501-9cfe-e14c012e88e6",
   "metadata": {},
   "source": [
    "# Outils et écosystème de la science des données"
   ]
  },
  {
   "cell_type": "markdown",
   "id": "0c974dcb-dfd3-4511-bdfd-c52de27a81db",
   "metadata": {},
   "source": [
    "Dans ce notebook, les outils et l'écosystème de la science des données sont résumés.\r\n"
   ]
  },
  {
   "cell_type": "markdown",
   "id": "ce8fb2ff-1374-452e-9fcf-d1b4ffb3fe9a",
   "metadata": {},
   "source": [
    "**Objectifs :**\n",
    "- Lister les langages populaires pour la science des données\n",
    "- Lister les bibliothèques couramment utilisées en science des données\n",
    "- Lister certains outils open source d’environnement de développement\n",
    "- Prendre en main Jupyter"
   ]
  },
  {
   "cell_type": "markdown",
   "id": "75dda64f-8f0f-4368-9180-3e1cd21be239",
   "metadata": {},
   "source": [
    "Certains des langages populaires que les scientifiques des données utilisent sont :\n",
    "1. R\n",
    "2. Python\n",
    "3. SQL\n",
    "4. Scala"
   ]
  },
  {
   "cell_type": "markdown",
   "id": "5c117f01-b286-4358-9aef-4df205ff9348",
   "metadata": {},
   "source": [
    "Certaines des bibliothèques couramment utilisées par les scientifiques des données incluent :\n",
    "1. Pandas\n",
    "2. Scikit-learn\n",
    "3. Matplotlib\n",
    "4. Caret\n",
    "5. ggplot"
   ]
  },
  {
   "cell_type": "markdown",
   "id": "6193dc2d-e93d-4015-be31-e48ea489edeb",
   "metadata": {},
   "source": [
    "| Outils de la science des données |\n",
    "| ---- |\n",
    "| RStudio |\n",
    "| Jupyter Notebook |\n",
    "| Google Colab |"
   ]
  },
  {
   "cell_type": "markdown",
   "id": "e73be174-b22f-4308-a1f5-e9269483fb40",
   "metadata": {},
   "source": [
    "### Voici quelques exemples d'évaluation d'expressions arithmétiques en Python\r\n"
   ]
  },
  {
   "cell_type": "code",
   "execution_count": 1,
   "id": "fb9fbda9-7f57-4464-bb02-cdbec75f6dde",
   "metadata": {},
   "outputs": [
    {
     "data": {
      "text/plain": [
       "17"
      ]
     },
     "execution_count": 1,
     "metadata": {},
     "output_type": "execute_result"
    }
   ],
   "source": [
    "# Ceci est une simple expression arithmétique pour multiplier puis additionner des entiers\n",
    "(3*4) + 5"
   ]
  },
  {
   "cell_type": "code",
   "execution_count": 2,
   "id": "b41e7c2f-b80d-4589-a41c-4f6ae13aa389",
   "metadata": {},
   "outputs": [
    {
     "data": {
      "text/plain": [
       "3.3333333333333335"
      ]
     },
     "execution_count": 2,
     "metadata": {},
     "output_type": "execute_result"
    }
   ],
   "source": [
    "# Cela convertira 200 minutes en heures en divisant par 60\n",
    "200/60"
   ]
  },
  {
   "cell_type": "markdown",
   "id": "e4c7532b-d24d-42b9-8875-e6a1903fc179",
   "metadata": {},
   "source": [
    "## Auteur\n",
    "Melwin"
   ]
  },
  {
   "cell_type": "code",
   "execution_count": null,
   "id": "f8a6dbe1-4d70-4aec-bcaf-8b6fa130ce6d",
   "metadata": {},
   "outputs": [],
   "source": []
  }
 ],
 "metadata": {
  "kernelspec": {
   "display_name": "Python 3 (ipykernel)",
   "language": "python",
   "name": "python3"
  },
  "language_info": {
   "codemirror_mode": {
    "name": "ipython",
    "version": 3
   },
   "file_extension": ".py",
   "mimetype": "text/x-python",
   "name": "python",
   "nbconvert_exporter": "python",
   "pygments_lexer": "ipython3",
   "version": "3.11.7"
  }
 },
 "nbformat": 4,
 "nbformat_minor": 5
}
